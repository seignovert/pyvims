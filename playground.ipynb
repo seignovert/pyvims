{
 "cells": [
  {
   "cell_type": "markdown",
   "metadata": {},
   "source": [
    "# PyVIMS package playground\n",
    "\n",
    "<div class=\"alert alert-danger\">\n",
    "    <h3>⚠️ This version is no longer supported ⚠️</h3>\n",
    "    <p>Please use <a href=\"https://nbviewer.org/github/seignovert/pyvims/blob/main/notebooks/playground.ipynb\">the latest version of pyvims</a> (<code>>1.0</code>).</p>\n",
    "</div>\n",
    "\n",
    "This jupyter notebook allow you to play with the [VIMS data](https://vims.univ-nantes.fr/) without any prior installation.\n",
    "Press <kbd>shift</kbd> + <kbd>Enter</kbd> to run the different cells.\n",
    "\n",
    "For more information on the PyVIMS package, refer to this [notebook](pyvims.ipynb).\n",
    "\n",
    "__Note:__ This live demo will **not** be saved but you can download it in `File > Download as > notebook (.ipynb)`.\n",
    "\n",
    "You can also download the [PyVIMS Docker container](https://hub.docker.com/r/seignovert/pyvims/) to run it locally.\n",
    "```bash\n",
    "docker run --rm -it \\\n",
    "            -p 8888:8888 \\\n",
    "            -v $VIMS_DATA:/home/nbuser/data \\\n",
    "            -v $CASSINI_KERNELS:/home/nbuser/kernels \\\n",
    "            seignovert/pyvims\n",
    "```"
   ]
  },
  {
   "cell_type": "code",
   "execution_count": 1,
   "metadata": {},
   "outputs": [],
   "source": [
    "from pyvims import VIMS"
   ]
  },
  {
   "cell_type": "code",
   "execution_count": null,
   "metadata": {},
   "outputs": [],
   "source": [
    "cube = VIMS('1487096932_1', root='data/')"
   ]
  }
 ],
 "metadata": {
  "kernelspec": {
   "display_name": "Python 3",
   "language": "python",
   "name": "python3"
  },
  "language_info": {
   "codemirror_mode": {
    "name": "ipython",
    "version": 3
   },
   "file_extension": ".py",
   "mimetype": "text/x-python",
   "name": "python",
   "nbconvert_exporter": "python",
   "pygments_lexer": "ipython3",
   "version": "3.6.9"
  }
 },
 "nbformat": 4,
 "nbformat_minor": 2
}
