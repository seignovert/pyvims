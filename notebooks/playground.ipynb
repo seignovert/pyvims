{
 "cells": [
  {
   "cell_type": "markdown",
   "metadata": {},
   "source": [
    "# PyVIMS package playground\n",
    "\n",
    "This jupyter notebook allow you to play with the [VIMS data](https://vims.univ-nantes.fr/) without any prior installation.\n",
    "Press <kbd>shift</kbd> + <kbd>Enter</kbd> to run the different cells.\n",
    "\n",
    "__Note:__ This live demo will **not** be saved but you can download it in `File > Download as > notebook (.ipynb)`.\n",
    "\n",
    "For more information on the PyVIMS package, refer to this [notebook](pyvims.ipynb)."
   ]
  },
  {
   "cell_type": "code",
   "execution_count": 1,
   "metadata": {},
   "outputs": [],
   "source": [
    "from pyvims import VIMS"
   ]
  },
  {
   "cell_type": "code",
   "execution_count": 2,
   "metadata": {},
   "outputs": [
    {
     "data": {
      "text/plain": [
       "<VIMS> Cube: 1487096932_1\n",
       " - Size: (42, 42)\n",
       " - Channel: IR\n",
       " - Mode: NORMAL\n",
       " - Start time: 2005-02-14 18:02:29.023000\n",
       " - Stop time: 2005-02-14 18:07:32.930000\n",
       " - Exposure: 0.16276 sec\n",
       " - Duration: 0:05:03.907000\n",
       " - Main target: TITAN\n",
       " - Flyby: T3"
      ]
     },
     "execution_count": 2,
     "metadata": {},
     "output_type": "execute_result"
    }
   ],
   "source": [
    "cube = VIMS('1487096932_1')\n",
    "cube"
   ]
  },
  {
   "cell_type": "code",
   "execution_count": null,
   "metadata": {},
   "outputs": [],
   "source": []
  }
 ],
 "metadata": {
  "kernelspec": {
   "display_name": "Python 3",
   "language": "python",
   "name": "python3"
  },
  "language_info": {
   "codemirror_mode": {
    "name": "ipython",
    "version": 3
   },
   "file_extension": ".py",
   "mimetype": "text/x-python",
   "name": "python",
   "nbconvert_exporter": "python",
   "pygments_lexer": "ipython3",
   "version": "3.10.11"
  }
 },
 "nbformat": 4,
 "nbformat_minor": 2
}
